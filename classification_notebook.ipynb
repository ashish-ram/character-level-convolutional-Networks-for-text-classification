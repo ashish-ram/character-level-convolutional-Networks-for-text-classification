{
 "cells": [
  {
   "cell_type": "code",
   "execution_count": 1,
   "metadata": {},
   "outputs": [
    {
     "name": "stderr",
     "output_type": "stream",
     "text": [
      "Using TensorFlow backend.\n"
     ]
    }
   ],
   "source": [
    "import numpy as np\n",
    "from keras.models import Model\n",
    "from keras.layers import Input, Dense, Flatten\n",
    "from keras.layers import Convolution1D\n",
    "from keras.layers import MaxPooling1D\n",
    "from keras.layers import Embedding\n",
    "from keras.layers import ThresholdedReLU\n",
    "from keras.layers import Dropout\n",
    "from keras.callbacks import TensorBoard\n",
    "import gc\n",
    "import matplotlib.pyplot as plt\n",
    "import json\n",
    "import tensorflow as tf\n",
    "from keras.callbacks import EarlyStopping"
   ]
  },
  {
   "cell_type": "code",
   "execution_count": 2,
   "metadata": {
    "collapsed": true
   },
   "outputs": [],
   "source": [
    "class Data(object):\n",
    "    \"\"\"\n",
    "    Class to handle loading and processing of raw datasets.\n",
    "    \"\"\"\n",
    "\n",
    "    def __init__(self,\n",
    "                 training_data_x,\n",
    "                 training_labels_y,\n",
    "                 alphabet=\"abcdefghijklmnopqrstuvwxyz0123456789-,;.!?:'\\\"/\\\\|_@#$%^&*~`+-=<>()[]{}\",\n",
    "                 input_size=1014, num_of_classes=12):\n",
    "        \"\"\"\n",
    "        Initialization of a Data object.\n",
    "\n",
    "        Args:\n",
    "            data_source (str): Raw data file path\n",
    "            alphabet (str): Alphabet of characters to index\n",
    "            input_size (int): Size of input features\n",
    "            num_of_classes (int): Number of classes in data\n",
    "        \"\"\"\n",
    "        self.alphabet = alphabet\n",
    "        self.alphabet_size = len(self.alphabet)\n",
    "        self.dict = {}  # Maps each character to an integer\n",
    "        self.no_of_classes = num_of_classes\n",
    "        for index, char in enumerate(self.alphabet):\n",
    "            self.dict[char] = index + 1\n",
    "        self.length = input_size\n",
    "        self.training_data_x = training_data_x\n",
    "        self.training_labels_y = training_labels_y\n",
    "\n",
    "    def load_data(self):\n",
    "        \"\"\"\n",
    "        Load raw data from the source file into data variable.\n",
    "\n",
    "        Returns: None\n",
    "\n",
    "        \"\"\"\n",
    "        data = []\n",
    "        f_x = open(self.training_data_x, 'r')\n",
    "        f_y = np.loadtxt(self.training_labels_y, dtype='int64')\n",
    "        lines = f_x.readlines()\n",
    "        for y, x in zip(f_y, lines):\n",
    "            data.append((y, x))\n",
    "        self.data = np.array(data)\n",
    "        print(\"########## Data loaded ##########\")\n",
    "\n",
    "    def get_all_data(self):\n",
    "        \"\"\"\n",
    "        Return all loaded data for training the network from data variable.\n",
    "\n",
    "        Returns:\n",
    "            (np.ndarray) Data transformed from raw to indexed form with associated one-hot label.\n",
    "\n",
    "        \"\"\"\n",
    "        data_size = len(self.data)\n",
    "        start_index = 0\n",
    "        end_index = data_size\n",
    "        batch_texts = self.data[start_index:end_index]\n",
    "        batch_indices = []\n",
    "        one_hot = np.eye(self.no_of_classes, dtype='int64')\n",
    "        classes = []\n",
    "        for c, s in batch_texts:\n",
    "            batch_indices.append(self.str_to_indexes(s))\n",
    "            c = int(c) - 1\n",
    "            classes.append(one_hot[c])\n",
    "        return np.asarray(batch_indices, dtype='int64'), np.asarray(classes)\n",
    "\n",
    "    def str_to_indexes(self, s):\n",
    "        \"\"\"\n",
    "        Convert a string to character indexes based on character dictionary.\n",
    "\n",
    "        Args:\n",
    "            s (str): String to be converted to indexes\n",
    "\n",
    "        Returns:\n",
    "            s1hot (np.ndarray): Indexes of characters in s\n",
    "\n",
    "        \"\"\"\n",
    "        s = s.lower()\n",
    "        max_length = min(len(s), self.length)\n",
    "        s1hot = np.zeros(self.length, dtype='int64')\n",
    "        for i in range(1, max_length + 1):\n",
    "            c = s[-i]\n",
    "            if c in self.dict:\n",
    "                s1hot[i - 1] = self.dict[c]\n",
    "        return s1hot"
   ]
  },
  {
   "cell_type": "code",
   "execution_count": 3,
   "metadata": {
    "collapsed": true
   },
   "outputs": [],
   "source": [
    "# load config\n",
    "config = json.load(open(\"./config.json\"))"
   ]
  },
  {
   "cell_type": "code",
   "execution_count": 7,
   "metadata": {},
   "outputs": [
    {
     "name": "stdout",
     "output_type": "stream",
     "text": [
      "########## Data loaded ##########\n",
      "########## Data loaded ##########\n"
     ]
    }
   ],
   "source": [
    "# Load training data\n",
    "training_data = Data(training_data_x=config[\"data\"][\"training_data_x\"],\n",
    "                     training_labels_y = config[\"data\"][\"training_labels_y\"],\n",
    "                        alphabet=config[\"data\"][\"alphabet\"],\n",
    "                        input_size=config[\"data\"][\"input_size\"],\n",
    "                        num_of_classes=config[\"data\"][\"num_of_classes\"])\n",
    "training_data.load_data()\n",
    "training_inputs, training_labels = training_data.get_all_data()\n",
    "\n",
    "# Load validation data\n",
    "heldout_data = Data(training_data_x=config[\"data\"][\"validation_data_x\"],\n",
    "                     training_labels_y = config[\"data\"][\"validation_labels_y\"],\n",
    "                        alphabet=config[\"data\"][\"alphabet\"],\n",
    "                        input_size=config[\"data\"][\"input_size\"],\n",
    "                        num_of_classes=config[\"data\"][\"num_of_classes\"])\n",
    "heldout_data.load_data()\n",
    "heldout_inputs, heldout_labels = heldout_data.get_all_data()"
   ]
  },
  {
   "cell_type": "code",
   "execution_count": 5,
   "metadata": {},
   "outputs": [
    {
     "data": {
      "text/plain": [
       "(30000, 2513)"
      ]
     },
     "execution_count": 5,
     "metadata": {},
     "output_type": "execute_result"
    }
   ],
   "source": [
    "len(training_inputs), len(heldout_inputs)"
   ]
  },
  {
   "cell_type": "code",
   "execution_count": 6,
   "metadata": {
    "collapsed": true
   },
   "outputs": [],
   "source": [
    "class ModelClass(object):\n",
    "    \"\"\"\n",
    "    Class to implement the Character Level Convolutional Neural Network for Text Classification,\n",
    "    as described in Zhang et al., 2015 (http://arxiv.org/abs/1509.01626)\n",
    "    \"\"\"\n",
    "    def __init__(self, input_size, alphabet_size, embedding_size,\n",
    "                 conv_layers, fully_connected_layers, num_of_classes,\n",
    "                 threshold, dropout_p,\n",
    "                 optimizer='adam', loss='categorical_crossentropy'):\n",
    "        \"\"\"\n",
    "        Initialization for the Character Level CNN model.\n",
    "\n",
    "        Args:\n",
    "            input_size (int): Size of input features\n",
    "            alphabet_size (int): Size of alphabets to create embeddings for\n",
    "            embedding_size (int): Size of embeddings\n",
    "            conv_layers (list[list[int]]): List of Convolution layers for model\n",
    "            fully_connected_layers (list[list[int]]): List of Fully Connected layers for model\n",
    "            num_of_classes (int): Number of classes in data\n",
    "            threshold (float): Threshold for Thresholded ReLU activation function\n",
    "            dropout_p (float): Dropout Probability\n",
    "            optimizer (str): Training optimizer\n",
    "            loss (str): Loss function\n",
    "        \"\"\"\n",
    "        self.input_size = input_size\n",
    "        self.alphabet_size = alphabet_size\n",
    "        self.embedding_size = embedding_size\n",
    "        self.conv_layers = conv_layers\n",
    "        self.fully_connected_layers = fully_connected_layers\n",
    "        self.num_of_classes = num_of_classes\n",
    "        self.threshold = threshold\n",
    "        self.dropout_p = dropout_p\n",
    "        self.optimizer = optimizer\n",
    "        self.loss = loss\n",
    "        self._build_model()  # builds self.model variable\n",
    "\n",
    "    def _build_model(self):\n",
    "        \"\"\"\n",
    "        Build and compile the Character Level CNN model\n",
    "\n",
    "        Returns: None\n",
    "\n",
    "        \"\"\"\n",
    "        # Input layer\n",
    "        inputs = Input(shape=(self.input_size,), name='sent_input', dtype='int64')\n",
    "        # Embedding layers\n",
    "        x = Embedding(self.alphabet_size + 1, self.embedding_size, input_length=self.input_size)(inputs)\n",
    "        # Convolution layers\n",
    "        for cl in self.conv_layers:\n",
    "            x = Convolution1D(cl[0], cl[1])(x)\n",
    "            x = ThresholdedReLU(self.threshold)(x)\n",
    "            if cl[2] != -1:\n",
    "                x = MaxPooling1D(cl[2])(x)\n",
    "        x = Flatten()(x)\n",
    "        # Fully connected layers\n",
    "        for fl in self.fully_connected_layers:\n",
    "            x = Dense(fl)(x)\n",
    "            x = ThresholdedReLU(self.threshold)(x)\n",
    "            x = Dropout(self.dropout_p)(x)\n",
    "        # Output layer\n",
    "        predictions = Dense(self.num_of_classes, activation='softmax')(x)\n",
    "        # Build and compile model\n",
    "        model = Model(inputs=inputs, outputs=predictions)\n",
    "        model.compile(optimizer=self.optimizer, loss=self.loss)\n",
    "        self.model = model\n",
    "        print(\"#########  model built  ##########\")\n",
    "        self.model.summary()\n",
    "\n",
    "    def train(self, training_inputs, training_labels,\n",
    "              validation_split,\n",
    "              epochs, batch_size, checkpoint_every=100):\n",
    "        \"\"\"\n",
    "        Training function\n",
    "\n",
    "        Args:\n",
    "            training_inputs (numpy.ndarray): Training set inputs\n",
    "            training_labels (numpy.ndarray): Training set labels\n",
    "            validation_split (float): Fraction of training data used for validation\n",
    "            epochs (int): Number of training epochs\n",
    "            batch_size (int): Batch size\n",
    "            checkpoint_every (int): Interval for logging to Tensorboard\n",
    "\n",
    "        Returns: None\n",
    "\n",
    "        \"\"\"\n",
    "        # Start training\n",
    "        print(\"############# Training model started #############: \")\n",
    "        early_stopping = EarlyStopping(monitor='val_loss',\n",
    "                                       min_delta=0,\n",
    "                                       patience=3,\n",
    "                                       verbose=0,\n",
    "                                       mode='auto')\n",
    "        self.model.fit(training_inputs, training_labels,\n",
    "                       validation_split=validation_split,\n",
    "                       shuffle=True,\n",
    "                       epochs=epochs,\n",
    "                       batch_size=batch_size,\n",
    "                       verbose=1,\n",
    "                       callbacks=[early_stopping])\n",
    "\n",
    "    def test(self, testing_inputs, testing_labels, batch_size):\n",
    "        \"\"\"\n",
    "        Testing function\n",
    "\n",
    "        Args:\n",
    "            testing_inputs (numpy.ndarray): Testing set inputs\n",
    "            testing_labels (numpy.ndarray): Testing set labels\n",
    "            batch_size (int): Batch size\n",
    "\n",
    "        Returns: None\n",
    "\n",
    "        \"\"\"\n",
    "        # Evaluate inputs\n",
    "        score = self.model.evaluate(testing_inputs, testing_labels, batch_size=batch_size, verbose=1)\n",
    "        gc.collect()\n",
    "        print('Score of the model= {}'.format(score))\n",
    "        #self.model.predict(testing_inputs, batch_size=batch_size, verbose=1)\n"
   ]
  },
  {
   "cell_type": "code",
   "execution_count": 7,
   "metadata": {},
   "outputs": [
    {
     "name": "stdout",
     "output_type": "stream",
     "text": [
      "#########  model built  ##########\n",
      "_________________________________________________________________\n",
      "Layer (type)                 Output Shape              Param #   \n",
      "=================================================================\n",
      "sent_input (InputLayer)      (None, 1014)              0         \n",
      "_________________________________________________________________\n",
      "embedding_1 (Embedding)      (None, 1014, 128)         8960      \n",
      "_________________________________________________________________\n",
      "conv1d_1 (Conv1D)            (None, 1008, 256)         229632    \n",
      "_________________________________________________________________\n",
      "thresholded_re_lu_1 (Thresho (None, 1008, 256)         0         \n",
      "_________________________________________________________________\n",
      "max_pooling1d_1 (MaxPooling1 (None, 336, 256)          0         \n",
      "_________________________________________________________________\n",
      "conv1d_2 (Conv1D)            (None, 330, 256)          459008    \n",
      "_________________________________________________________________\n",
      "thresholded_re_lu_2 (Thresho (None, 330, 256)          0         \n",
      "_________________________________________________________________\n",
      "max_pooling1d_2 (MaxPooling1 (None, 110, 256)          0         \n",
      "_________________________________________________________________\n",
      "conv1d_3 (Conv1D)            (None, 108, 256)          196864    \n",
      "_________________________________________________________________\n",
      "thresholded_re_lu_3 (Thresho (None, 108, 256)          0         \n",
      "_________________________________________________________________\n",
      "conv1d_4 (Conv1D)            (None, 106, 256)          196864    \n",
      "_________________________________________________________________\n",
      "thresholded_re_lu_4 (Thresho (None, 106, 256)          0         \n",
      "_________________________________________________________________\n",
      "conv1d_5 (Conv1D)            (None, 104, 256)          196864    \n",
      "_________________________________________________________________\n",
      "thresholded_re_lu_5 (Thresho (None, 104, 256)          0         \n",
      "_________________________________________________________________\n",
      "conv1d_6 (Conv1D)            (None, 102, 256)          196864    \n",
      "_________________________________________________________________\n",
      "thresholded_re_lu_6 (Thresho (None, 102, 256)          0         \n",
      "_________________________________________________________________\n",
      "max_pooling1d_3 (MaxPooling1 (None, 34, 256)           0         \n",
      "_________________________________________________________________\n",
      "flatten_1 (Flatten)          (None, 8704)              0         \n",
      "_________________________________________________________________\n",
      "dense_1 (Dense)              (None, 100)               870500    \n",
      "_________________________________________________________________\n",
      "thresholded_re_lu_7 (Thresho (None, 100)               0         \n",
      "_________________________________________________________________\n",
      "dropout_1 (Dropout)          (None, 100)               0         \n",
      "_________________________________________________________________\n",
      "dense_2 (Dense)              (None, 100)               10100     \n",
      "_________________________________________________________________\n",
      "thresholded_re_lu_8 (Thresho (None, 100)               0         \n",
      "_________________________________________________________________\n",
      "dropout_2 (Dropout)          (None, 100)               0         \n",
      "_________________________________________________________________\n",
      "dense_3 (Dense)              (None, 12)                1212      \n",
      "=================================================================\n",
      "Total params: 2,366,868\n",
      "Trainable params: 2,366,868\n",
      "Non-trainable params: 0\n",
      "_________________________________________________________________\n"
     ]
    }
   ],
   "source": [
    "model = ModelClass(input_size=config[\"data\"][\"input_size\"],\n",
    "                   alphabet_size=config[\"data\"][\"alphabet_size\"],\n",
    "                   embedding_size=config[config[\"model\"]][\"embedding_size\"],\n",
    "                   conv_layers=config[config[\"model\"]][\"conv_layers\"],\n",
    "                   fully_connected_layers=config[config[\"model\"]][\"fully_connected_layers\"],\n",
    "                   num_of_classes=config[\"data\"][\"num_of_classes\"],\n",
    "                   threshold=config[config[\"model\"]][\"threshold\"],\n",
    "                   dropout_p=config[config[\"model\"]][\"dropout_p\"],\n",
    "                   optimizer=config[config[\"model\"]][\"optimizer\"],\n",
    "                   loss=config[config[\"model\"]][\"loss\"])"
   ]
  },
  {
   "cell_type": "code",
   "execution_count": 8,
   "metadata": {},
   "outputs": [
    {
     "name": "stdout",
     "output_type": "stream",
     "text": [
      "############# Training model started #############: \n",
      "Train on 24000 samples, validate on 6000 samples\n",
      "Epoch 1/15\n",
      "24000/24000 [==============================] - 67s - loss: 2.4045 - val_loss: 2.3649\n",
      "Epoch 2/15\n",
      "24000/24000 [==============================] - 53s - loss: 2.3501 - val_loss: 2.2620\n",
      "Epoch 3/15\n",
      "24000/24000 [==============================] - 53s - loss: 2.2207 - val_loss: 2.0999\n",
      "Epoch 4/15\n",
      "24000/24000 [==============================] - 53s - loss: 2.0828 - val_loss: 1.9607\n",
      "Epoch 5/15\n",
      "24000/24000 [==============================] - 53s - loss: 1.9302 - val_loss: 1.7922\n",
      "Epoch 6/15\n",
      "24000/24000 [==============================] - 53s - loss: 1.7654 - val_loss: 1.6453\n",
      "Epoch 7/15\n",
      "24000/24000 [==============================] - 53s - loss: 1.6384 - val_loss: 1.5248\n",
      "Epoch 8/15\n",
      "24000/24000 [==============================] - 52s - loss: 1.5378 - val_loss: 1.4793\n",
      "Epoch 9/15\n",
      "24000/24000 [==============================] - 52s - loss: 1.4728 - val_loss: 1.4332\n",
      "Epoch 10/15\n",
      "24000/24000 [==============================] - 52s - loss: 1.4175 - val_loss: 1.3733\n",
      "Epoch 11/15\n",
      "24000/24000 [==============================] - 52s - loss: 1.3432 - val_loss: 1.3574\n",
      "Epoch 12/15\n",
      "24000/24000 [==============================] - 52s - loss: 1.2345 - val_loss: 1.3460\n",
      "Epoch 13/15\n",
      "24000/24000 [==============================] - 52s - loss: 1.1843 - val_loss: 1.2937\n",
      "Epoch 14/15\n",
      "24000/24000 [==============================] - 52s - loss: 1.0676 - val_loss: 1.2799\n",
      "Epoch 15/15\n",
      "24000/24000 [==============================] - 52s - loss: 1.0195 - val_loss: 1.3790\n"
     ]
    }
   ],
   "source": [
    "model.train(training_inputs=training_inputs,\n",
    "            training_labels=training_labels,\n",
    "            validation_split=config[\"training\"][\"validation_split\"],\n",
    "            epochs= 15, #config[\"training\"][\"epochs\"],\n",
    "            batch_size=config[\"training\"][\"batch_size\"],\n",
    "            checkpoint_every=config[\"training\"][\"checkpoint_every\"])"
   ]
  },
  {
   "cell_type": "code",
   "execution_count": 9,
   "metadata": {
    "collapsed": true
   },
   "outputs": [],
   "source": [
    "model.model.save(r'trained_model')"
   ]
  },
  {
   "cell_type": "code",
   "execution_count": 16,
   "metadata": {},
   "outputs": [
    {
     "data": {
      "image/png": "[encoded data removed]",
      "text/plain": [
       "<matplotlib.figure.Figure at 0x7fbfe4173fd0>"
      ]
     },
     "metadata": {},
     "output_type": "display_data"
    }
   ],
   "source": [
    "plt.plot(model.model.history.history['loss'],'r', label = 'Training loss')\n",
    "plt.plot(model.model.history.history['val_loss'],'b', label = 'Validation loss')\n",
    "plt.legend()\n",
    "plt.show()\n",
    "plt.savefig('plot.png')"
   ]
  },
  {
   "cell_type": "markdown",
   "metadata": {},
   "source": [
    "## Use heldout data to determine expected accuracy and text data to predict classes"
   ]
  },
  {
   "cell_type": "code",
   "execution_count": 4,
   "metadata": {},
   "outputs": [
    {
     "name": "stdout",
     "output_type": "stream",
     "text": [
      "########## Data loaded ##########\n"
     ]
    }
   ],
   "source": [
    "# Load test data\n",
    "test_data = Data(training_data_x=config[\"data\"][\"test_x\"],\n",
    "                     training_labels_y = config[\"data\"][\"training_labels_y\"],\n",
    "                        alphabet=config[\"data\"][\"alphabet\"],\n",
    "                        input_size=config[\"data\"][\"input_size\"],\n",
    "                        num_of_classes=config[\"data\"][\"num_of_classes\"])\n",
    "test_data.load_data()\n",
    "test_inputs, _ = test_data.get_all_data()"
   ]
  },
  {
   "cell_type": "code",
   "execution_count": 5,
   "metadata": {
    "collapsed": true
   },
   "outputs": [],
   "source": [
    "# predict class labels of test data\n",
    "from keras.models import load_model\n",
    "m = load_model('trained_model')\n",
    "labels = m.predict(test_inputs)\n",
    "classes = np.argmax(labels,1)\n",
    "np.savetxt('ytest', classes, fmt='%i')"
   ]
  },
  {
   "cell_type": "code",
   "execution_count": 8,
   "metadata": {},
   "outputs": [
    {
     "name": "stdout",
     "output_type": "stream",
     "text": [
      "2513/2513 [==============================] - 2s     \n",
      "[0.0, 0.59450853]\n",
      "[0.59450853]\n"
     ]
    }
   ],
   "source": [
    "# test the model on the heldout data\n",
    "# this will give the predicted accuracy of the model on the actual test data\n",
    "y=m.predict(x=heldout_inputs, verbose=1)\n",
    "acc, acc_op = tf.metrics.accuracy(labels=tf.argmax(heldout_labels, 1), predictions=tf.argmax(y,1))\n",
    "sess = tf.InteractiveSession()\n",
    "tf.global_variables_initializer().run()\n",
    "tf.local_variables_initializer().run()\n",
    "print(sess.run([acc, acc_op]))\n",
    "print(sess.run([acc]))"
   ]
  },
  {
   "cell_type": "markdown",
   "metadata": {},
   "source": [
    "# Answers:\n",
    "### Please refer to README.md for the explaination and other details\n",
    "### First of all, due to limited compute power and time, I only trained for 15 epochs. \n",
    "### Trained on floyd hub servers\n",
    "### Configuration of the network and training parameters can be found in the config.json file\n",
    "### Expected accuracy on the test data = 59.4%, Accuracy will improve with higher number of epochs\n",
    "### Predicted class labels of the test data can be found in \"ytest.txt\"\n"
   ]
  },
  {
   "cell_type": "code",
   "execution_count": null,
   "metadata": {
    "collapsed": true
   },
   "outputs": [],
   "source": []
  }
 ],
 "metadata": {
  "kernelspec": {
   "display_name": "Python 3",
   "language": "python",
   "name": "python3"
  },
  "language_info": {
   "codemirror_mode": {
    "name": "ipython",
    "version": 3
   },
   "file_extension": ".py",
   "mimetype": "text/x-python",
   "name": "python",
   "nbconvert_exporter": "python",
   "pygments_lexer": "ipython3",
   "version": "3.5.3"
  }
 },
 "nbformat": 4,
 "nbformat_minor": 2
}
